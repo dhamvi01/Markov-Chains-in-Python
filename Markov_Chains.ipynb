{
  "nbformat": 4,
  "nbformat_minor": 0,
  "metadata": {
    "colab": {
      "name": "Markov Chains.ipynb",
      "provenance": [],
      "authorship_tag": "ABX9TyO/PNwvFzWgPXvWUrJ5Ryth",
      "include_colab_link": true
    },
    "kernelspec": {
      "name": "python3",
      "display_name": "Python 3"
    }
  },
  "cells": [
    {
      "cell_type": "markdown",
      "metadata": {
        "id": "view-in-github",
        "colab_type": "text"
      },
      "source": [
        "<a href=\"https://colab.research.google.com/github/dhamvi01/Markov-Chains-in-Python/blob/main/Markov_Chains.ipynb\" target=\"_parent\"><img src=\"https://colab.research.google.com/assets/colab-badge.svg\" alt=\"Open In Colab\"/></a>"
      ]
    },
    {
      "cell_type": "code",
      "metadata": {
        "id": "TDZDOqomYOb4"
      },
      "source": [
        "import numpy as np\r\n",
        "import random as rm"
      ],
      "execution_count": 1,
      "outputs": []
    },
    {
      "cell_type": "code",
      "metadata": {
        "id": "hoY-n8sqYQLd"
      },
      "source": [
        "# The statespace\r\n",
        "states = [\"Sleep\",\"Icecream\",\"Run\"]\r\n",
        "\r\n",
        "# Possible sequences of events\r\n",
        "transitionName = [[\"SS\",\"SR\",\"SI\"],[\"RS\",\"RR\",\"RI\"],[\"IS\",\"IR\",\"II\"]]\r\n",
        "\r\n",
        "# Probabilities matrix (transition matrix)\r\n",
        "transitionMatrix = [[0.2,0.6,0.2],[0.1,0.6,0.3],[0.2,0.7,0.1]]"
      ],
      "execution_count": 2,
      "outputs": []
    },
    {
      "cell_type": "code",
      "metadata": {
        "colab": {
          "base_uri": "https://localhost:8080/"
        },
        "id": "-eYMGnBxYTHj",
        "outputId": "0cbdf7f6-30d3-4a96-f93d-23132b731e8b"
      },
      "source": [
        "if sum(transitionMatrix[0])+sum(transitionMatrix[1])+sum(transitionMatrix[1]) != 3:\r\n",
        "    print(\"Somewhere, something went wrong. Transition matrix, perhaps?\")\r\n",
        "else: print(\"All is gonna be okay, you should move on!! ;)\")"
      ],
      "execution_count": 3,
      "outputs": [
        {
          "output_type": "stream",
          "text": [
            "All is gonna be okay, you should move on!! ;)\n"
          ],
          "name": "stdout"
        }
      ]
    },
    {
      "cell_type": "code",
      "metadata": {
        "colab": {
          "base_uri": "https://localhost:8080/"
        },
        "id": "rDyFzMxiYW8L",
        "outputId": "40f78618-2188-41cc-edc9-f4d026d042a3"
      },
      "source": [
        "def activity_forecast(days):\r\n",
        "    # Choose the starting state\r\n",
        "    activityToday = \"Sleep\"\r\n",
        "    activityList = [activityToday]\r\n",
        "    i = 0\r\n",
        "    prob = 1\r\n",
        "    while i != days:\r\n",
        "        if activityToday == \"Sleep\":\r\n",
        "            change = np.random.choice(transitionName[0],replace=True,p=transitionMatrix[0])\r\n",
        "            if change == \"SS\":\r\n",
        "                prob = prob * 0.2\r\n",
        "                activityList.append(\"Sleep\")\r\n",
        "                pass\r\n",
        "            elif change == \"SR\":\r\n",
        "                prob = prob * 0.6\r\n",
        "                activityToday = \"Run\"\r\n",
        "                activityList.append(\"Run\")\r\n",
        "            else:\r\n",
        "                prob = prob * 0.2\r\n",
        "                activityToday = \"Icecream\"\r\n",
        "                activityList.append(\"Icecream\")\r\n",
        "        elif activityToday == \"Run\":\r\n",
        "            change = np.random.choice(transitionName[1],replace=True,p=transitionMatrix[1])\r\n",
        "            if change == \"RR\":\r\n",
        "                prob = prob * 0.5\r\n",
        "                activityList.append(\"Run\")\r\n",
        "                pass\r\n",
        "            elif change == \"RS\":\r\n",
        "                prob = prob * 0.2\r\n",
        "                activityToday = \"Sleep\"\r\n",
        "                activityList.append(\"Sleep\")\r\n",
        "            else:\r\n",
        "                prob = prob * 0.3\r\n",
        "                activityToday = \"Icecream\"\r\n",
        "                activityList.append(\"Icecream\")\r\n",
        "        elif activityToday == \"Icecream\":\r\n",
        "            change = np.random.choice(transitionName[2],replace=True,p=transitionMatrix[2])\r\n",
        "            if change == \"II\":\r\n",
        "                prob = prob * 0.1\r\n",
        "                activityList.append(\"Icecream\")\r\n",
        "                pass\r\n",
        "            elif change == \"IS\":\r\n",
        "                prob = prob * 0.2\r\n",
        "                activityToday = \"Sleep\"\r\n",
        "                activityList.append(\"Sleep\")\r\n",
        "            else:\r\n",
        "                prob = prob * 0.7\r\n",
        "                activityToday = \"Run\"\r\n",
        "                activityList.append(\"Run\")\r\n",
        "        i += 1    \r\n",
        "    return activityList\r\n",
        "\r\n",
        "# To save every activityList\r\n",
        "list_activity = []\r\n",
        "count = 0\r\n",
        "\r\n",
        "# `Range` starts from the first count up until but excluding the last count\r\n",
        "for iterations in range(1,10000):\r\n",
        "        list_activity.append(activity_forecast(2))\r\n",
        "\r\n",
        "# Check out all the `activityList` we collected    \r\n",
        "#print(list_activity)\r\n",
        "\r\n",
        "# Iterate through the list to get a count of all activities ending in state:'Run'\r\n",
        "for smaller_list in list_activity:\r\n",
        "    if(smaller_list[2] == \"Run\"):\r\n",
        "        count += 1\r\n",
        "\r\n",
        "# Calculate the probability of starting from state:'Sleep' and ending at state:'Run'\r\n",
        "percentage = (count/10000) * 100\r\n",
        "print(\"The probability of starting at state:'Sleep' and ending at state:'Run'= \" + str(percentage) + \"%\")"
      ],
      "execution_count": 6,
      "outputs": [
        {
          "output_type": "stream",
          "text": [
            "The probability of starting at state:'Sleep' and ending at state:'Run'= 61.83%\n"
          ],
          "name": "stdout"
        }
      ]
    },
    {
      "cell_type": "markdown",
      "metadata": {
        "id": "Hl8PYBJ0Y5g2"
      },
      "source": [
        "How did we approximate towards the desired 62%?\r\n",
        "\r\n",
        "This is actually the \"law of large numbers\", which is a principle of probability that states that the frequencies of events with the same likelihood of occurrence even out, but only if there are enough trials or instances. In other words, as the number of experiments increases, the actual ratio of outcomes will converge on a theoretical or expected ratio of outcomes."
      ]
    },
    {
      "cell_type": "code",
      "metadata": {
        "id": "J_wXLHDGYcQi"
      },
      "source": [
        ""
      ],
      "execution_count": null,
      "outputs": []
    }
  ]
}